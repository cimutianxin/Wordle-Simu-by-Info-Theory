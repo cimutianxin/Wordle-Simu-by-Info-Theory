{
 "cells": [
  {
   "cell_type": "code",
   "execution_count": 25,
   "metadata": {},
   "outputs": [],
   "source": [
    "import numpy as np\n",
    "import pandas as pd\n",
    "import os\n",
    "from tqdm import tqdm\n",
    "\n",
    "# import csv"
   ]
  },
  {
   "cell_type": "code",
   "execution_count": 26,
   "metadata": {},
   "outputs": [],
   "source": [
    "# import word list\n",
    "with open(\"data/allowed_words.txt\", \"r\") as f:\n",
    "    long_word_list = [word.strip() for word in f.readlines()]\n",
    "with open(\"data/possible_words.txt\", \"r\") as f:\n",
    "    short_word_list = [word.strip() for word in f.readlines()]\n",
    "\n",
    "# generate reply list\n",
    "reply_list = []\n",
    "for i in range(3):\n",
    "    for j in range(3):\n",
    "        for k in range(3):\n",
    "            for l in range(3):\n",
    "                for m in range(3):\n",
    "                    reply_list.append(\"{:d}{:d}{:d}{:d}{:d}\".format(i, j, k, l, m))"
   ]
  },
  {
   "cell_type": "code",
   "execution_count": 27,
   "metadata": {},
   "outputs": [],
   "source": [
    "# generate the map of reply of each pair\n",
    "# 生成每个单词对的回复\n",
    "def generate_map_of_replies():\n",
    "    for i, word1 in enumerate(short_word_list):\n",
    "        for j, word2 in enumerate(short_word_list):\n",
    "            map_of_reply[(i, j)] = reply_of_2_words(word1, word2)\n",
    "\n",
    "\n",
    "# word1 is the tested word, word2 is the answer word\n",
    "def reply_of_2_words(word1, word2):\n",
    "    # 1:必须在其他位置有\n",
    "    # 2:必须在相同位置有\n",
    "    reply = [0, 0, 0, 0, 0]\n",
    "    for i in range(5):\n",
    "        if word1[i] == word2[i]:\n",
    "            reply[i] = 2\n",
    "        elif word1[i] in word2:\n",
    "            reply[i] = 1\n",
    "            word2 = word2.replace(word1[i], \"*\", 1)\n",
    "        else:\n",
    "            reply[i] = 0\n",
    "    return \"\".join([str(i) for i in reply])"
   ]
  },
  {
   "cell_type": "code",
   "execution_count": 28,
   "metadata": {},
   "outputs": [],
   "source": [
    "# generate the map of reply of each pair, to SAVE TIME\n",
    "# this step costs about 10 seconds\n",
    "map_of_reply = {}\n",
    "generate_map_of_replies()"
   ]
  },
  {
   "cell_type": "code",
   "execution_count": 29,
   "metadata": {},
   "outputs": [],
   "source": [
    "# # 将哈希表 map_of_reply 存储为 CSV 文件\n",
    "# with open('result/map_of_reply.csv', 'w', newline='') as csvfile:\n",
    "#     writer = csv.writer(csvfile)\n",
    "#     writer.writerow(['row', 'col', 'value'])\n",
    "#     for key, value in map_of_reply.items():\n",
    "#         writer.writerow([long_word_list[key[0]],long_word_list[key[1]], ','.join(str(x) for x in value)])"
   ]
  },
  {
   "cell_type": "code",
   "execution_count": 30,
   "metadata": {},
   "outputs": [],
   "source": [
    "# game solution0: use E_info_list created before every guess\n",
    "def solution0(start_word):\n",
    "    # E_info_df= pd.read_csv('result/E_info_for_all_words.csv')\n",
    "    if start_word == \"\":\n",
    "        start_word = \"saner\"\n",
    "    guessing_word = start_word\n",
    "    possible_words = short_word_list.copy()\n",
    "    guessed_words = []\n",
    "    turn = 0\n",
    "\n",
    "    while True:\n",
    "        if guessing_word == ANSWER:\n",
    "            # print('end')\n",
    "            break\n",
    "        turn += 1\n",
    "\n",
    "        reply = map_of_reply[(short_word_list.index(guessing_word), short_word_list.index(ANSWER))]\n",
    "\n",
    "        guessed_words.append(guessing_word)\n",
    "        possible_words_old = possible_words.copy()\n",
    "        possible_words = []\n",
    "        for word in possible_words_old:\n",
    "            if (\n",
    "                map_of_reply[(short_word_list.index(guessing_word), short_word_list.index(word))] == reply\n",
    "                and word not in guessed_words\n",
    "            ):\n",
    "                possible_words.append(word)\n",
    "\n",
    "        # print('turn:',turn,'    possible_words: ', possible_words)\n",
    "\n",
    "        # find out the word with max E_info in E_info_df\n",
    "        max_E_info = 0\n",
    "        for word in possible_words:\n",
    "            E_info = E_info_df.loc[E_info_df[\"word\"] == word][\"E_info\"].values[0]\n",
    "            if E_info > max_E_info:\n",
    "                max_E_info = E_info\n",
    "                guessing_word = word\n",
    "\n",
    "        # print('turn:',turn+1,'    guessing word: ', guessing_word)\n",
    "\n",
    "    return turn + 1"
   ]
  },
  {
   "cell_type": "code",
   "execution_count": 31,
   "metadata": {},
   "outputs": [],
   "source": [
    "# game solution1: use the word has the highest E_info satisfied the reply every time\n",
    "def solution1(start_word):\n",
    "    if start_word == \"\":\n",
    "        start_word = \"saner\"\n",
    "    guessing_word = start_word\n",
    "    possible_words = short_word_list.copy()\n",
    "    guessed_words = []\n",
    "    turn = 0\n",
    "\n",
    "    while True:\n",
    "        if guessing_word == ANSWER:\n",
    "            print(\"end\")\n",
    "            break\n",
    "        turn += 1\n",
    "\n",
    "        reply = map_of_reply[(short_word_list.index(guessing_word), short_word_list.index(ANSWER))]\n",
    "\n",
    "        guessed_words.append(guessing_word)\n",
    "        possible_words_old = possible_words.copy()\n",
    "        possible_words = []\n",
    "        for word in possible_words_old:\n",
    "            if (\n",
    "                map_of_reply[(short_word_list.index(guessing_word), short_word_list.index(word))] == reply\n",
    "                and word not in guessed_words\n",
    "            ):\n",
    "                possible_words.append(word)\n",
    "\n",
    "        print(\"turn:\", turn, \"    possible_words: \", possible_words)\n",
    "\n",
    "        E_info_list = []\n",
    "        for word in possible_words:\n",
    "            E_info_list.append(calc_E_info(word, possible_words))\n",
    "        guessing_word = possible_words[np.argmax(E_info_list)]\n",
    "\n",
    "        print(\"turn:\", turn + 1, \"    guessing word: \", guessing_word)\n",
    "\n",
    "    return turn + 1\n",
    "\n",
    "\n",
    "# 根据（新的）可能的词库计算E_info\n",
    "def calc_E_info(word, possible_words):\n",
    "    E_info = 0\n",
    "    # 遍历所有 word 对应的可能的 reply，去除重复的值\n",
    "    for reply in list(\n",
    "        set([value for key, value in map_of_reply.items() if key[0] == short_word_list.index(word)])\n",
    "    ):\n",
    "        # for reply in reply_list:\n",
    "        # 找出map_of_reply中key[0]为word,且value为reply的个数\n",
    "        # 使用列表推导式和 if 语句筛选出符合条件的键值对，并使用 len() 函数计算符合条件的键值对的个数\n",
    "        count = len(\n",
    "            [\n",
    "                value\n",
    "                for key, value in map_of_reply.items()\n",
    "                if key[0] == short_word_list.index(word) and value == reply\n",
    "            ]\n",
    "        )\n",
    "        p_x = count / len(possible_words)\n",
    "        if p_x != 0:\n",
    "            E_info += p_x * np.log2(1 / p_x)\n",
    "\n",
    "        # print('word:',word,'reply:',reply,'count:',count,'p_x:',p_x)  # test code\n",
    "    return E_info"
   ]
  },
  {
   "cell_type": "code",
   "execution_count": 32,
   "metadata": {},
   "outputs": [
    {
     "data": {
      "text/plain": [
       "\"\\n# 计算猜的第一个词的E_info列表，根据E_info列表选择第一个猜的词\\n# this step costs about\\n# read csv if exists\\nif os.path.exists('result/E_info_list_1.csv'):\\n    E_info_list_1 =pd.read_csv('result/E_info_list_1.csv')  \\nelse:\\n    E_info_list_1 = pd.DataFrame(columns=['word', 'E_info'])\\n    for word in tqdm(short_word_list):\\n        E_info_list_1.loc[len(E_info_list_1)] = [word,calc_E_info(word, short_word_list)]\\n    E_info_list_1.sort_values(by='E_info',ascending=False,inplace=True)\\n    E_info_list_1.to_csv('result/E_info_list_1.csv',index=False)\\nE_info_list_1.head()\\n\""
      ]
     },
     "execution_count": 32,
     "metadata": {},
     "output_type": "execute_result"
    }
   ],
   "source": [
    "\"\"\"\n",
    "# 计算猜的第一个词的E_info列表，根据E_info列表选择第一个猜的词\n",
    "# this step costs about\n",
    "# read csv if exists\n",
    "if os.path.exists('result/E_info_list_1.csv'):\n",
    "    E_info_list_1 =pd.read_csv('result/E_info_list_1.csv')  \n",
    "else:\n",
    "    E_info_list_1 = pd.DataFrame(columns=['word', 'E_info'])\n",
    "    for word in tqdm(short_word_list):\n",
    "        E_info_list_1.loc[len(E_info_list_1)] = [word,calc_E_info(word, short_word_list)]\n",
    "    E_info_list_1.sort_values(by='E_info',ascending=False,inplace=True)\n",
    "    E_info_list_1.to_csv('result/E_info_list_1.csv',index=False)\n",
    "E_info_list_1.head()\n",
    "\"\"\""
   ]
  },
  {
   "cell_type": "code",
   "execution_count": 33,
   "metadata": {},
   "outputs": [],
   "source": [
    "E_info_df = pd.read_csv(\"result/E_info_for_all_words.csv\")"
   ]
  },
  {
   "cell_type": "code",
   "execution_count": 34,
   "metadata": {},
   "outputs": [
    {
     "name": "stderr",
     "output_type": "stream",
     "text": [
      "100%|██████████| 100/100 [00:08<00:00, 12.43it/s]\n"
     ]
    }
   ],
   "source": [
    "guess_record = []\n",
    "\n",
    "for i in tqdm(range(100)):\n",
    "    ANSWER = np.random.choice(short_word_list)\n",
    "    # guess_record.append({'ANSWER': ANSWER, 'turn': solution1('slate')})\n",
    "    guess_record.append({\"ANSWER\": ANSWER, \"turn\": solution0(\"saner\")})  # simu 1000 times for about 2 minutes\n",
    "\n",
    "guess_record_df = pd.DataFrame(guess_record)"
   ]
  },
  {
   "cell_type": "code",
   "execution_count": 35,
   "metadata": {},
   "outputs": [
    {
     "data": {
      "text/plain": [
       "3.79"
      ]
     },
     "execution_count": 35,
     "metadata": {},
     "output_type": "execute_result"
    }
   ],
   "source": [
    "# 平均猜测次数\n",
    "average_turn_sol1 = guess_record_df.turn.mean()\n",
    "average_turn_sol1"
   ]
  }
 ],
 "metadata": {
  "kernelspec": {
   "display_name": "wordle",
   "language": "python",
   "name": "python3"
  },
  "language_info": {
   "codemirror_mode": {
    "name": "ipython",
    "version": 3
   },
   "file_extension": ".py",
   "mimetype": "text/x-python",
   "name": "python",
   "nbconvert_exporter": "python",
   "pygments_lexer": "ipython3",
   "version": "3.12.3"
  },
  "orig_nbformat": 4
 },
 "nbformat": 4,
 "nbformat_minor": 2
}
